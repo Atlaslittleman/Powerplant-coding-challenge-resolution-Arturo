{
 "cells": [
  {
   "cell_type": "code",
   "execution_count": 1,
   "id": "50275b76-f591-4933-bb7d-2043a0893b1f",
   "metadata": {},
   "outputs": [],
   "source": [
    "import numpy as np\n",
    "import matplotlib.pyplot as plt\n",
    "import json\n",
    "import os\n",
    "from itertools import combinations"
   ]
  },
  {
   "cell_type": "markdown",
   "id": "1a1377a5-42ff-4d82-81b9-c1b648dc9383",
   "metadata": {},
   "source": [
    "En este notebook voy a explorar diferentes formas de implementar el problema antes de diseñar el archivo final."
   ]
  },
  {
   "cell_type": "markdown",
   "id": "bbf9808a-27f5-4ad5-b9cd-bf7f90dc4f03",
   "metadata": {},
   "source": [
    "# Formalización del problema"
   ]
  },
  {
   "cell_type": "markdown",
   "id": "0d3e147e-847b-4db6-a1fa-83e311aedfce",
   "metadata": {},
   "source": [
    "Antes de empezar a programar voy a intentar establecer un modelo el cual voy a intentar implementar.\n",
    "\n",
    "Básicamente tenemos una load, $L$, y una serie de centrales de energía. Denotemos por $P_i$ la energía que genera la central $i$ donde $i = 1,...,n$ con $n$ el número total de centrales de energía que tenemos disponibles. En todo momento la energía generada por todas las plantas debe igualar la load:\n",
    "$$\n",
    "L = e_1 P_1 + ... + e_n P_n\n",
    "$$\n",
    "donde $e_i$ es la correspondiente eficiencia de la fuente de energía.\n",
    "El objetivo es minimizar el coste de la energía, con lo cual denotemos por $c_i$ el coste de generar energía en la planta $i$. Por tanto, nuestra función objetivo es:\n",
    "$$\n",
    "c_1 P_1 + ... + c_n P_n\n",
    "$$\n",
    "Hay tres tipos de centrales de energía según cómo generen la energía: \n",
    "\n",
    "1. Usando un turbojet (eficiencia del $30\\%$)\n",
    "2. Central de gas (eficiencia del $50\\%$)\n",
    "3. Usando molinos de viento (eficiencia depende del viento que haga, en un principio)\n",
    "\n",
    "Cada una de estas centrales de energía genera energía con un cierto coste, lo que nos permitirá calcular los $c_i$. Además, hay unos límites a la energía que podemos generar dados por los valores $Pmax_i$ y $Pmin_i$:\n",
    "\n",
    "$$\n",
    "Pmin_i \\leq P_i \\leq Pmax_i\n",
    "$$\n",
    "\n",
    "En general, solo las centrales de gas tienen un $Pmin$ por lo que dice el enunciado.\n",
    "\n",
    "Con lo cual podemos plantear el problema al que nos vamos a enfrentar como un problema de programación lineal:\n",
    "\n",
    "$$\n",
    "\\min \\quad c_1 P_1 + ... + c_n P_n\n",
    "$$\n",
    "$$\n",
    "s.t. \\quad L = e_1 P_1 + ... + e_n P_n\n",
    "$$\n",
    "$$\n",
    "\\quad \\, \\, Pmin_i \\leq P_i \\leq Pmax_i \\quad \\forall i\n",
    "$$\n",
    "\n",
    "Así pues, una solución sistemática del problema requiere:\n",
    "\n",
    "1. Implementar un algoritmo que resuelva problemas de programación lineal.\n",
    "2. Calcular los costes de la energía para un problema concreto.\n",
    "3. Plantear el correspondiente problema de programación lineal y resolverlo."
   ]
  },
  {
   "cell_type": "markdown",
   "id": "dd913fb7-aecd-48be-8f79-eaf954bd989f",
   "metadata": {},
   "source": [
    "# Lectura de datos"
   ]
  },
  {
   "cell_type": "markdown",
   "id": "c3c24994-6cea-4364-800d-9d017751a1f1",
   "metadata": {},
   "source": [
    "Para empezar voy a comprobar cómo abrir y guardar archivos .json."
   ]
  },
  {
   "cell_type": "code",
   "execution_count": 2,
   "id": "fa4b7f86-000e-4bfd-8a56-63d778d6f6ee",
   "metadata": {},
   "outputs": [],
   "source": [
    "file = open('example_payloads\\\\payload1.json')\n",
    "data = json.load(file)\n",
    "file.close()"
   ]
  },
  {
   "cell_type": "code",
   "execution_count": 3,
   "id": "cea46330-a5f5-468c-90a1-84030b5d24e4",
   "metadata": {},
   "outputs": [
    {
     "data": {
      "text/plain": [
       "{'load': 480,\n",
       " 'fuels': {'gas(euro/MWh)': 13.4,\n",
       "  'kerosine(euro/MWh)': 50.8,\n",
       "  'co2(euro/ton)': 20,\n",
       "  'wind(%)': 60},\n",
       " 'powerplants': [{'name': 'gasfiredbig1',\n",
       "   'type': 'gasfired',\n",
       "   'efficiency': 0.53,\n",
       "   'pmin': 100,\n",
       "   'pmax': 460},\n",
       "  {'name': 'gasfiredbig2',\n",
       "   'type': 'gasfired',\n",
       "   'efficiency': 0.53,\n",
       "   'pmin': 100,\n",
       "   'pmax': 460},\n",
       "  {'name': 'gasfiredsomewhatsmaller',\n",
       "   'type': 'gasfired',\n",
       "   'efficiency': 0.37,\n",
       "   'pmin': 40,\n",
       "   'pmax': 210},\n",
       "  {'name': 'tj1',\n",
       "   'type': 'turbojet',\n",
       "   'efficiency': 0.3,\n",
       "   'pmin': 0,\n",
       "   'pmax': 16},\n",
       "  {'name': 'windpark1',\n",
       "   'type': 'windturbine',\n",
       "   'efficiency': 1,\n",
       "   'pmin': 0,\n",
       "   'pmax': 150},\n",
       "  {'name': 'windpark2',\n",
       "   'type': 'windturbine',\n",
       "   'efficiency': 1,\n",
       "   'pmin': 0,\n",
       "   'pmax': 36}]}"
      ]
     },
     "execution_count": 3,
     "metadata": {},
     "output_type": "execute_result"
    }
   ],
   "source": [
    "data"
   ]
  },
  {
   "cell_type": "markdown",
   "id": "bf4b6423-a653-4e93-b710-0ed69b752e32",
   "metadata": {},
   "source": [
    "El archivo resultante es un diccionario de python. Vamos a comprobar cómo hay que almacenar la respuesta:"
   ]
  },
  {
   "cell_type": "code",
   "execution_count": 4,
   "id": "bf29dc90-6fad-46de-9915-61a2e4fa8e29",
   "metadata": {},
   "outputs": [],
   "source": [
    "file = open('example_payloads\\\\response3.json')\n",
    "data = json.load(file)\n",
    "file.close()"
   ]
  },
  {
   "cell_type": "code",
   "execution_count": 5,
   "id": "be88a2ba-81d4-4a67-92d4-a1e5f8f95205",
   "metadata": {},
   "outputs": [
    {
     "data": {
      "text/plain": [
       "[{'name': 'windpark1', 'p': 90.0},\n",
       " {'name': 'windpark2', 'p': 21.6},\n",
       " {'name': 'gasfiredbig1', 'p': 460.0},\n",
       " {'name': 'gasfiredbig2', 'p': 338.4},\n",
       " {'name': 'gasfiredsomewhatsmaller', 'p': 0.0},\n",
       " {'name': 'tj1', 'p': 0.0}]"
      ]
     },
     "execution_count": 5,
     "metadata": {},
     "output_type": "execute_result"
    }
   ],
   "source": [
    "data"
   ]
  },
  {
   "cell_type": "markdown",
   "id": "34bbaab7-7102-4bb6-919d-58fd7724d7f4",
   "metadata": {},
   "source": [
    "El formato es simplemente un array que almacena diccionarios, cada uno con el nombre de la central y la cantidad de energía que genera. Vamos a reproducir tal array:"
   ]
  },
  {
   "cell_type": "code",
   "execution_count": 6,
   "id": "7c935e29-0071-4739-bdef-e3ed27f1d11f",
   "metadata": {},
   "outputs": [
    {
     "data": {
      "text/plain": [
       "[{'name': 'windpark1', 'p': 90.0},\n",
       " {'name': 'windpark2', 'p': 21.6},\n",
       " {'name': 'gasfiredbig1', 'p': 460.0},\n",
       " {'name': 'gasfiredbig2', 'p': 338.4},\n",
       " {'name': 'gasfiredsomewhatsmaller', 'p': 0.0},\n",
       " {'name': 'tj1', 'p': 0.0}]"
      ]
     },
     "execution_count": 6,
     "metadata": {},
     "output_type": "execute_result"
    }
   ],
   "source": [
    "data = [{'name': 'windpark1', 'p': 90.0},\n",
    " {'name': 'windpark2', 'p': 21.6},\n",
    " {'name': 'gasfiredbig1', 'p': 460.0},\n",
    " {'name': 'gasfiredbig2', 'p': 338.4},\n",
    " {'name': 'gasfiredsomewhatsmaller', 'p': 0.0},\n",
    " {'name': 'tj1', 'p': 0.0}]\n",
    "\n",
    "data"
   ]
  },
  {
   "cell_type": "markdown",
   "id": "3e728b8f-e42b-4b3e-82cd-bd0e0ba8ca6a",
   "metadata": {},
   "source": [
    "Y lo guardamos:"
   ]
  },
  {
   "cell_type": "code",
   "execution_count": 7,
   "id": "8670cb95-940d-40bd-a908-6ad20f2b4fb4",
   "metadata": {},
   "outputs": [],
   "source": [
    "save_file = open(\"respuestas\\\\ejemplo1.json\", \"w\")\n",
    "json.dump(data, save_file)  \n",
    "save_file.close()  "
   ]
  },
  {
   "cell_type": "markdown",
   "id": "8555eeb4-428e-4baf-b5c9-5aa54d445ebb",
   "metadata": {},
   "source": [
    "Podemos comprobar si tal archivo está guardado correctamente o no:"
   ]
  },
  {
   "cell_type": "code",
   "execution_count": 8,
   "id": "d91acc97-f654-464a-b697-9e1ca37355bb",
   "metadata": {},
   "outputs": [],
   "source": [
    "file = open('respuestas\\\\ejemplo1.json')\n",
    "data = json.load(file)\n",
    "file.close()"
   ]
  },
  {
   "cell_type": "code",
   "execution_count": 9,
   "id": "5c8676ab-7ece-498e-b51a-37e870c32b49",
   "metadata": {},
   "outputs": [
    {
     "data": {
      "text/plain": [
       "[{'name': 'windpark1', 'p': 90.0},\n",
       " {'name': 'windpark2', 'p': 21.6},\n",
       " {'name': 'gasfiredbig1', 'p': 460.0},\n",
       " {'name': 'gasfiredbig2', 'p': 338.4},\n",
       " {'name': 'gasfiredsomewhatsmaller', 'p': 0.0},\n",
       " {'name': 'tj1', 'p': 0.0}]"
      ]
     },
     "execution_count": 9,
     "metadata": {},
     "output_type": "execute_result"
    }
   ],
   "source": [
    "data"
   ]
  },
  {
   "cell_type": "markdown",
   "id": "ffdedbeb-536f-4519-8250-57d9625a0d4f",
   "metadata": {},
   "source": [
    "Con esto hemos comprobado el correcto manejo de archivos .json con lo cual ya podemos proceder a la siguiente sección."
   ]
  },
  {
   "cell_type": "markdown",
   "id": "df4eac2d-242c-4cf4-bb78-29c0ead331a3",
   "metadata": {},
   "source": [
    "# Algoritmo de programación lineal"
   ]
  },
  {
   "cell_type": "markdown",
   "id": "67d44c35-7b71-4648-a18b-5e0be9e184a7",
   "metadata": {},
   "source": [
    "Vamos a implementar un algorithmo que permita resolver problemas de programación lineal como los que nos vamos a enfrentar. Con tiempo infinito sería posible implementar el algoritmo simplex de modo que la resolución sea exacta, precisa y eficiente. Sin embargo, debido a las restricciones temporales vamos a tener que ingeniar un método alternativo. Para cada planta de energía vamos a introducir dos variables: $s_i$ y $f_i$, que representan la cantidad de energía que sobra con respecto a $Pmin_i$ y la cantidad de energía que falta para llegar a $Pmax_i$, de modo que las desigualdades se pueden expresar como:\n",
    "\n",
    "$$\n",
    "Pmin_i = P_i - s_i \\quad \\quad \\quad Pmax_i = P_i + f_i\n",
    "$$\n",
    "\n",
    "Así todas las restricciones son de igualdad. Si tenemos seis centrales de energía, el número total de restricciones sería $13$. Podemos calcular el rango de la matriz de restricciones, que es $n \\leq 13$, de modo que la solución del problema la encontraríamos tomando $13 - n$ variables iguales a cero y el resto de las variables se podrían calcular por medio de invertir una matriz de rango $n$. Debido al tamaño de los ejemplos podemos calcular todas las posibles matrices de estas características y mediante búsqueda finita podemos calcular todas las soluciones posibles y extraer la óptima. Es una solución tosca y no se puede escalar para el caso de que haya muchas centrales debido a que tendríamos que invertir $C_{m, n}$ matrices donde $m$ es el número total de centrales y $n$ es el rango de la matriz, pero dadas las restricciones resulta más fácil de implementar que la alternativa y vale para el contexto dado. Así pues, vamos a implementar esta solución:"
   ]
  },
  {
   "cell_type": "code",
   "execution_count": 10,
   "id": "256e23cf-35a5-414d-b7ce-4769511b7ccc",
   "metadata": {},
   "outputs": [],
   "source": [
    "def algoritmo(A, c, b, centrales):\n",
    "    total = 3*centrales\n",
    "    \n",
    "    #Almacenamos el rango de la matriz\n",
    "    rango = 2*centrales + 1\n",
    "    #Calculamos los índices de las columnas de todas las posibles submatrices\n",
    "    indices = np.array([[True if i in comb else False for i in range(total)] for comb in combinations(np.arange(total), rango)])\n",
    "    nrows = np.shape(indices)[0]\n",
    "        \n",
    "    solucion = {}\n",
    "    \n",
    "    for i in range(nrows):\n",
    "        #Escogemos la submatriz correspondiente\n",
    "        submatriz = A[:,indices[i,:]]\n",
    "            \n",
    "        try:\n",
    "            #Tratamos de resolver el sistema correspondiente\n",
    "            z = np.linalg.solve(submatriz, b)\n",
    "    \n",
    "            #La solución la insertamos en un vector lleno de ceros\n",
    "            sol_real = np.zeros(3*n)\n",
    "            sol_real[indices[i,:]] = z\n",
    "            value = c.dot(sol_real)\n",
    "    \n",
    "            #Descartamos soluciones con componentes negativas\n",
    "            if np.sum(sol_real[sol_real != 0] < 0) == 0:\n",
    "                solucion[i] = {'x': sol_real, 'obj': c.dot(sol_real)}\n",
    "            else:\n",
    "                solucion[i] = {'x': None, 'obj': 1e99}\n",
    "        except:\n",
    "            #Si surge algún problema devolvemos una solución nula\n",
    "            solucion[i] = {'x': None, 'obj': 1e99}\n",
    "    \n",
    "    #Guardamos los valores obtenidos y buscamos el mínimo\n",
    "    obj = np.array([solucion[i]['obj'] for i in range(nrows)])\n",
    "    opt_index = np.argmin(obj)\n",
    "    #Devolvemos la solución\n",
    "    return {'x': solucion[opt_index]['x'], 'obj': solucion[opt_index]['obj']}"
   ]
  },
  {
   "cell_type": "markdown",
   "id": "d193ccaa-4dcc-452c-8e1e-1c10721a2f07",
   "metadata": {},
   "source": [
    "# Ejemplo de resolución"
   ]
  },
  {
   "cell_type": "markdown",
   "id": "2b84f2fe-560a-4999-b7b2-5bdb0e207290",
   "metadata": {},
   "source": [
    "Estamos preparados para dar un ejemplo de cómo resolver el problema antes de hacer el archivo final."
   ]
  },
  {
   "cell_type": "code",
   "execution_count": 11,
   "id": "f66c6303-52cd-403b-8b99-7471aa369a72",
   "metadata": {},
   "outputs": [],
   "source": [
    "#Cargamos un ejemplo\n",
    "file = open('example_payloads\\\\payload1.json')\n",
    "data = json.load(file)\n",
    "file.close()"
   ]
  },
  {
   "cell_type": "code",
   "execution_count": 12,
   "id": "dffe8f59-789f-4147-9a3c-c11a8ac2b5d9",
   "metadata": {},
   "outputs": [],
   "source": [
    "#Guardamos los datos\n",
    "\n",
    "L = data['load']\n",
    "fuels = data['fuels']\n",
    "powerplants = data['powerplants']\n",
    "\n",
    "n = len(powerplants)\n",
    "\n",
    "names = [powerplant['name'] for powerplant in powerplants]\n",
    "types = [powerplant['type'] for powerplant in powerplants]\n",
    "efficiency = [powerplant['efficiency'] for powerplant in powerplants]\n",
    "pmin = [powerplant['pmin'] for powerplant in powerplants]\n",
    "pmax = [powerplant['pmax'] for powerplant in powerplants]"
   ]
  },
  {
   "cell_type": "code",
   "execution_count": 13,
   "id": "90d82ddb-e0ea-4f97-9b86-83a8dc708197",
   "metadata": {},
   "outputs": [],
   "source": [
    "#Calculamos el vector de costes\n",
    "costs = np.array([0 for i in range(n)])\n",
    "types = np.array(types)\n",
    "costs[types == 'gasfired'] = fuels['gas(euro/MWh)']\n",
    "costs[types == 'turbojet'] = fuels['kerosine(euro/MWh)']\n",
    "\n",
    "#Vamos a considerar que la eficiencia de una planta eólica es el viento que hace\n",
    "efficiency = np.array(efficiency)\n",
    "efficiency[types == 'windturbine'] = fuels['wind(%)']/100 "
   ]
  },
  {
   "cell_type": "code",
   "execution_count": 14,
   "id": "ae8e4b6d-0041-4243-b202-f1b726ba9c39",
   "metadata": {},
   "outputs": [],
   "source": [
    "#Añadimos las variables de relajación en el vector de costes\n",
    "c = np.concatenate((costs, np.zeros(2*n)))\n",
    "\n",
    "#Calculamos el término independiente de las restricciones\n",
    "b = [L] + pmin + pmax\n",
    "b = np.array(b)\n",
    "\n",
    "#Calculamos la matriz de restricciones\n",
    "\n",
    "#Primera fila: vector de eficiencias\n",
    "first_row = np.concatenate((efficiency, np.zeros(2*n)))\n",
    "first_row = np.reshape(first_row, (1, 3*n))\n",
    "\n",
    "#El resto de filas es fácil definirlas por bloques\n",
    "#primeras n columnas: variables \"reales\", P_i\n",
    "#siguientes n columnas: variables \"pmin\", s_i\n",
    "#últimas n columnas: variables \"pmax\", f_i\n",
    "identity = np.eye(n)\n",
    "zeros = np.zeros((n,n))\n",
    "\n",
    "pmin_block = np.concatenate((identity, -identity, zeros), axis = 1)\n",
    "pmax_block = np.concatenate((identity, zeros, identity), axis = 1)\n",
    "\n",
    "A = np.concatenate((first_row, pmin_block, pmax_block), axis = 0)"
   ]
  },
  {
   "cell_type": "code",
   "execution_count": 15,
   "id": "b4ef8d1f-494a-41ff-9cae-8d321bcb1185",
   "metadata": {},
   "outputs": [],
   "source": [
    "#Resolvemos\n",
    "sol = algoritmo(A, c, b, n)"
   ]
  },
  {
   "cell_type": "code",
   "execution_count": 16,
   "id": "37150c5f-663e-4a86-b389-6b911cfb2c23",
   "metadata": {},
   "outputs": [],
   "source": [
    "#Expresamos la solución adecuadamente\n",
    "respuesta = [{'name': names[i], 'p': sol['x'][i]} for i in range(n)]"
   ]
  },
  {
   "cell_type": "code",
   "execution_count": 17,
   "id": "da2065cb-9be8-4bec-8f87-d6ff978bd9dc",
   "metadata": {},
   "outputs": [],
   "source": [
    "#Guardamos la solución en el formato correcto\n",
    "save_file = open(\"respuestas\\\\solucion_payload1.json\", \"w\")\n",
    "json.dump(data, save_file)  \n",
    "save_file.close()  "
   ]
  },
  {
   "cell_type": "markdown",
   "id": "3bce0bdd-09ba-4278-a6ca-1bf7ddb296f2",
   "metadata": {},
   "source": [
    "# Archivo definitivo"
   ]
  },
  {
   "cell_type": "markdown",
   "id": "bdc9a106-33d0-45b6-8e9e-14972a04c7c1",
   "metadata": {},
   "source": [
    "Ahora estamos preparados para desarrollar un archivo definitivo tal y como se pide en el enunciado a partir del código desarrollado. Para empezar vamos a crear un archivo requirements.txt"
   ]
  },
  {
   "cell_type": "code",
   "execution_count": 18,
   "id": "3e26c23e-107f-4e3b-87fb-4b40f454ccb1",
   "metadata": {},
   "outputs": [
    {
     "name": "stdout",
     "output_type": "stream",
     "text": [
      "Note: you may need to restart the kernel to use updated packages.\n"
     ]
    }
   ],
   "source": [
    "pip freeze > requirements.txt"
   ]
  },
  {
   "cell_type": "markdown",
   "id": "6b5fd4e8-ff5d-4673-ae10-b6538dfd1a3c",
   "metadata": {},
   "source": [
    "Ahora podemos construir el REST API requerido. No estoy familiarizado con estas herramientas por lo cual voy a experimentar un poco antes de crear el archivo final.\n"
   ]
  },
  {
   "cell_type": "markdown",
   "id": "1e81442e-c71d-42a8-9280-5dd9fa692c5f",
   "metadata": {},
   "source": [
    "# Correcciones"
   ]
  },
  {
   "cell_type": "markdown",
   "id": "2e079f3f-ae49-4e71-bd99-3512f9721bf9",
   "metadata": {},
   "source": [
    "Esta primera versión es primitiva y ya permite obtener soluciones tangibles. No obstante, hay un problema fundamental: las centrales para las que pmin es mayor que cero no funcionan como deberían. La cuestión es que la energía mínima que se genera en dichas centrales no es pmin: es $0$. SI se enciende la central, entonces tenemos que generar como mínimo pmin. Pero si no fuera rentable encenderla podemos simplemente no generar energía, con lo que generaríamos $0$ en lugar de pmin. Tal como está planteado nuestro problema, como mínimo siempre vamos a generar pmin, lo cual es un error. Una forma de proceder es la siguiente:\n",
    "\n",
    "1. Calcular la solución óptima con el algoritmo previo\n",
    "2. Probar todas las combinaciones de estaciones de gas que se puedan cerrar a la vez\n",
    "3. Para cada combinación, calcular la solución óptima del correspondiente problema de optimización\n",
    "4. Usar como solución aquella que, entre todas las soluciones obtenidas, resulte en el mínimo para la función objetivo\n",
    "\n",
    "Voy a intentar implementar este procedimiento en el tiempo que me queda, pero en caso de no poder por lo menos queda expuesta una idea sobre cómo mejorar mi solución."
   ]
  },
  {
   "cell_type": "code",
   "execution_count": 55,
   "id": "b914f2c9-770a-40d9-bcfc-5614a9267c2b",
   "metadata": {},
   "outputs": [],
   "source": [
    "def run(case):\n",
    "    #Guardamos los datos\n",
    "    L = data['load']\n",
    "    fuels = data['fuels']\n",
    "    powerplants = data['powerplants']\n",
    "        \n",
    "    n = len(powerplants)\n",
    "        \n",
    "    names = [powerplant['name'] for powerplant in powerplants]\n",
    "    types = [powerplant['type'] for powerplant in powerplants]\n",
    "    efficiency = [powerplant['efficiency'] for powerplant in powerplants]\n",
    "    pmin = [powerplant['pmin'] for powerplant in powerplants]\n",
    "    pmax = [powerplant['pmax'] for powerplant in powerplants]\n",
    "    \n",
    "    #Calculamos el vector de costes\n",
    "    costs = np.array([0 for i in range(n)])\n",
    "    types = np.array(types)\n",
    "    costs[types == 'gasfired'] = fuels['gas(euro/MWh)']\n",
    "    costs[types == 'turbojet'] = fuels['kerosine(euro/MWh)']\n",
    "        \n",
    "    #Vamos a considerar que la eficiencia de una planta eólica es el viento que hace\n",
    "    efficiency = np.array(efficiency)\n",
    "    efficiency[types == 'windturbine'] = fuels['wind(%)']/100 \n",
    "\n",
    "\n",
    "    pmin = np.array(pmin)\n",
    "    pmax = np.array(pmax)\n",
    "    pmin[types == 'gasfired'] = case*pmin[types == 'gasfired']\n",
    "    pmax[types == 'gasfired'] = case*pmax[types == 'gasfired']\n",
    "    \n",
    "    #Añadimos las variables de relajación en el vector de costes\n",
    "    c = np.concatenate((costs, np.zeros(2*n)))\n",
    "        \n",
    "    #Calculamos el término independiente de las restricciones\n",
    "    b = [L] + pmin + pmax\n",
    "    b = np.array(b)\n",
    "        \n",
    "    #Calculamos la matriz de restricciones\n",
    "        \n",
    "    #Primera fila: vector de eficiencias\n",
    "    first_row = np.concatenate((efficiency, np.zeros(2*n)))\n",
    "    first_row = np.reshape(first_row, (1, 3*n))\n",
    "        \n",
    "    #El resto de filas es fácil definirlas por bloques\n",
    "    #primeras n columnas: variables \"reales\", P_i\n",
    "    #siguientes n columnas: variables \"pmin\", s_i\n",
    "    #últimas n columnas: variables \"pmax\", f_i\n",
    "    identity = np.eye(n)\n",
    "    zeros = np.zeros((n,n))\n",
    "        \n",
    "    pmin_block = np.concatenate((identity, -identity, zeros), axis = 1)\n",
    "    pmax_block = np.concatenate((identity, zeros, identity), axis = 1)\n",
    "        \n",
    "    A = np.concatenate((first_row, pmin_block, pmax_block), axis = 0)\n",
    "    \n",
    "    def algoritmo(A, b, c, n):\n",
    "        #Resolvemos\n",
    "        total = 3*n\n",
    "            \n",
    "        #Almacenamos el rango de la matriz\n",
    "        rango = 2*n + 1\n",
    "        #Calculamos los índices de las columnas de todas las posibles submatrices\n",
    "        indices = np.array([[True if i in comb else False for i in range(total)] for comb in combinations(np.arange(total), rango)])\n",
    "        nrows = np.shape(indices)[0]\n",
    "                \n",
    "        solucion = {}\n",
    "            \n",
    "        for i in range(nrows):\n",
    "            #Escogemos la submatriz correspondiente\n",
    "            submatriz = A[:,indices[i,:]]\n",
    "                    \n",
    "            try:\n",
    "                #Tratamos de resolver el sistema correspondiente\n",
    "                z = np.linalg.solve(submatriz, b)\n",
    "                \n",
    "                #La solución la insertamos en un vector lleno de ceros\n",
    "                sol_real = np.zeros(3*n)\n",
    "                sol_real[indices[i,:]] = z\n",
    "                value = c.dot(sol_real)\n",
    "                \n",
    "                #Descartamos soluciones con componentes negativas\n",
    "                if np.sum(sol_real[sol_real != 0] < 0) == 0:\n",
    "                    solucion[i] = {'x': sol_real, 'obj': c.dot(sol_real)}\n",
    "                else:\n",
    "                    solucion[i] = {'x': None, 'obj': 1e99}\n",
    "            except:\n",
    "                #Si surge algún problema devolvemos una solución nula\n",
    "                solucion[i] = {'x': None, 'obj': 1e99}\n",
    "            \n",
    "        #Guardamos los valores obtenidos y buscamos el mínimo\n",
    "        obj = np.array([solucion[i]['obj'] for i in range(nrows)])\n",
    "        opt_index = np.argmin(obj)\n",
    "        #Devolvemos la solución\n",
    "        sol = {'x': solucion[opt_index]['x'], 'obj': solucion[opt_index]['obj']}\n",
    "        return sol\n",
    "        \n",
    "    sol = algoritmo(A, b, c, n)\n",
    "    #Expresamos la solución adecuadamente\n",
    "    try:\n",
    "        respuesta = [{'name': names[i], 'p': sol['x'][i]} for i in range(n)] +  [{'obj': sol['obj']}]\n",
    "    except:\n",
    "        respuesta = [{'name': names[i], 'p': 1e99} for i in range(n)] + [{'obj': sol['obj']}]\n",
    "    return respuesta\n"
   ]
  },
  {
   "cell_type": "code",
   "execution_count": 85,
   "id": "b6acd249-07ed-4915-9be6-8bb40e1fe21c",
   "metadata": {},
   "outputs": [],
   "source": [
    "import itertools\n",
    "repeat = np.sum(types == 'gasfired')\n",
    "lst = [list(i) for i in itertools.product([0, 1], repeat=repeat)]\n",
    "\n",
    "sol = {}\n",
    "i = 0\n",
    "\n",
    "for case in lst:\n",
    "    sol[i] = run(np.array(case))\n",
    "    i = i + 1 "
   ]
  },
  {
   "cell_type": "code",
   "execution_count": 86,
   "id": "afcf944b-e2a2-438e-a914-ec4379aa0bfa",
   "metadata": {},
   "outputs": [],
   "source": [
    "obj = [sol[i][-1]['obj'] for i in range(8)]\n",
    "opt_index = np.argmin(obj)\n",
    "solution = sol[opt_index][1:n]"
   ]
  },
  {
   "cell_type": "code",
   "execution_count": 88,
   "id": "e46b1c0e-9afa-4ffc-904d-bb13d6bed0b1",
   "metadata": {},
   "outputs": [
    {
     "data": {
      "text/plain": [
       "{0: [{'name': 'gasfiredbig1', 'p': 1e+99},\n",
       "  {'name': 'gasfiredbig2', 'p': 1e+99},\n",
       "  {'name': 'gasfiredsomewhatsmaller', 'p': 1e+99},\n",
       "  {'name': 'tj1', 'p': 1e+99},\n",
       "  {'name': 'windpark1', 'p': 1e+99},\n",
       "  {'name': 'windpark2', 'p': 1e+99},\n",
       "  {'obj': 1e+99}],\n",
       " 1: [{'name': 'gasfiredbig1', 'p': 1e+99},\n",
       "  {'name': 'gasfiredbig2', 'p': 1e+99},\n",
       "  {'name': 'gasfiredsomewhatsmaller', 'p': 1e+99},\n",
       "  {'name': 'tj1', 'p': 1e+99},\n",
       "  {'name': 'windpark1', 'p': 1e+99},\n",
       "  {'name': 'windpark2', 'p': 1e+99},\n",
       "  {'obj': 1e+99}],\n",
       " 2: [{'name': 'gasfiredbig1', 'p': 1e+99},\n",
       "  {'name': 'gasfiredbig2', 'p': 1e+99},\n",
       "  {'name': 'gasfiredsomewhatsmaller', 'p': 1e+99},\n",
       "  {'name': 'tj1', 'p': 1e+99},\n",
       "  {'name': 'windpark1', 'p': 1e+99},\n",
       "  {'name': 'windpark2', 'p': 1e+99},\n",
       "  {'obj': 1e+99}],\n",
       " 3: [{'name': 'gasfiredbig1', 'p': 1e+99},\n",
       "  {'name': 'gasfiredbig2', 'p': 1e+99},\n",
       "  {'name': 'gasfiredsomewhatsmaller', 'p': 1e+99},\n",
       "  {'name': 'tj1', 'p': 1e+99},\n",
       "  {'name': 'windpark1', 'p': 1e+99},\n",
       "  {'name': 'windpark2', 'p': 1e+99},\n",
       "  {'obj': 1e+99}],\n",
       " 4: [{'name': 'gasfiredbig1', 'p': 1e+99},\n",
       "  {'name': 'gasfiredbig2', 'p': 1e+99},\n",
       "  {'name': 'gasfiredsomewhatsmaller', 'p': 1e+99},\n",
       "  {'name': 'tj1', 'p': 1e+99},\n",
       "  {'name': 'windpark1', 'p': 1e+99},\n",
       "  {'name': 'windpark2', 'p': 1e+99},\n",
       "  {'obj': 1e+99}],\n",
       " 5: [{'name': 'gasfiredbig1', 'p': 1e+99},\n",
       "  {'name': 'gasfiredbig2', 'p': 1e+99},\n",
       "  {'name': 'gasfiredsomewhatsmaller', 'p': 1e+99},\n",
       "  {'name': 'tj1', 'p': 1e+99},\n",
       "  {'name': 'windpark1', 'p': 1e+99},\n",
       "  {'name': 'windpark2', 'p': 1e+99},\n",
       "  {'obj': 1e+99}],\n",
       " 6: [{'name': 'gasfiredbig1', 'p': 1e+99},\n",
       "  {'name': 'gasfiredbig2', 'p': 1e+99},\n",
       "  {'name': 'gasfiredsomewhatsmaller', 'p': 1e+99},\n",
       "  {'name': 'tj1', 'p': 1e+99},\n",
       "  {'name': 'windpark1', 'p': 1e+99},\n",
       "  {'name': 'windpark2', 'p': 1e+99},\n",
       "  {'obj': 1e+99}],\n",
       " 7: [{'name': 'gasfiredbig1', 'p': 1e+99},\n",
       "  {'name': 'gasfiredbig2', 'p': 1e+99},\n",
       "  {'name': 'gasfiredsomewhatsmaller', 'p': 1e+99},\n",
       "  {'name': 'tj1', 'p': 1e+99},\n",
       "  {'name': 'windpark1', 'p': 1e+99},\n",
       "  {'name': 'windpark2', 'p': 1e+99},\n",
       "  {'obj': 1e+99}]}"
      ]
     },
     "execution_count": 88,
     "metadata": {},
     "output_type": "execute_result"
    }
   ],
   "source": [
    "sol"
   ]
  },
  {
   "cell_type": "markdown",
   "id": "73f6cd94-7d3b-4951-b5f2-cbaa68007791",
   "metadata": {},
   "source": [
    "Ya he excedido las cuatro horas así que voy a terminar aquí. El código de arriba en un principio debería poder forzar a las variables del gas que sean cero cada vez. Esto permitiría simular que la fábrica no se abre. Cada caso debería corresponderse con considerar si se abre o no cada fábrica de gas. No obstante, hay algún fallo que no he podido encontrar, de modo que la resolución queda a medias pero es fácilmente solventable. La implementación de un archivo Docker se escapa de mis conocimientos por lo cual necesitaría más tiempo para implementarla (como me ocurrió con el caso de la REST API: si ya hubiera sabido manejarla podría haber sacado más tiempo para completar satisfactoriamente la implementación). No obstante, el segundo objetivo secundario es fácilmente implementable: todo lo que hay que hacer es incluir una serie de constraints para las gas-fired powerplants. Estimo que como mucho en media hora podría incluirlo, pero no lo haré para no seguir sobrepasando el límite de tiempo."
   ]
  }
 ],
 "metadata": {
  "kernelspec": {
   "display_name": "Python 3 (ipykernel)",
   "language": "python",
   "name": "python3"
  },
  "language_info": {
   "codemirror_mode": {
    "name": "ipython",
    "version": 3
   },
   "file_extension": ".py",
   "mimetype": "text/x-python",
   "name": "python",
   "nbconvert_exporter": "python",
   "pygments_lexer": "ipython3",
   "version": "3.12.2"
  }
 },
 "nbformat": 4,
 "nbformat_minor": 5
}
